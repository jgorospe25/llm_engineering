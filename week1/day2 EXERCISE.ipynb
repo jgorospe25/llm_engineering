{
 "cells": [
  {
   "cell_type": "markdown",
   "id": "d15d8294-3328-4e07-ad16-8a03e9bbfdb9",
   "metadata": {},
   "source": [
    "# Welcome to your first assignment!\n",
    "\n",
    "Instructions are below. Please give this a try, and look in the solutions folder if you get stuck (or feel free to ask me!)"
   ]
  },
  {
   "cell_type": "markdown",
   "id": "ada885d9-4d42-4d9b-97f0-74fbbbfe93a9",
   "metadata": {},
   "source": [
    "<table style=\"margin: 0; text-align: left;\">\n",
    "    <tr>\n",
    "        <td style=\"width: 150px; height: 150px; vertical-align: middle;\">\n",
    "            <img src=\"../resources.jpg\" width=\"150\" height=\"150\" style=\"display: block;\" />\n",
    "        </td>\n",
    "        <td>\n",
    "            <h2 style=\"color:#f71;\">Just before we get to the assignment --</h2>\n",
    "            <span style=\"color:#f71;\">I thought I'd take a second to point you at this page of useful resources for the course. This includes links to all the slides.<br/>\n",
    "            <a href=\"https://edwarddonner.com/2024/11/13/llm-engineering-resources/\">https://edwarddonner.com/2024/11/13/llm-engineering-resources/</a><br/>\n",
    "            Please keep this bookmarked, and I'll continue to add more useful links there over time.\n",
    "            </span>\n",
    "        </td>\n",
    "    </tr>\n",
    "</table>"
   ]
  },
  {
   "cell_type": "markdown",
   "id": "6e9fa1fc-eac5-4d1d-9be4-541b3f2b3458",
   "metadata": {},
   "source": [
    "# HOMEWORK EXERCISE ASSIGNMENT\n",
    "\n",
    "Upgrade the day 1 project to summarize a webpage to use an Open Source model running locally via Ollama rather than OpenAI\n",
    "\n",
    "You'll be able to use this technique for all subsequent projects if you'd prefer not to use paid APIs.\n",
    "\n",
    "**Benefits:**\n",
    "1. No API charges - open-source\n",
    "2. Data doesn't leave your box\n",
    "\n",
    "**Disadvantages:**\n",
    "1. Significantly less power than Frontier Model\n",
    "\n",
    "## Recap on installation of Ollama\n",
    "\n",
    "Simply visit [ollama.com](https://ollama.com) and install!\n",
    "\n",
    "Once complete, the ollama server should already be running locally.  \n",
    "If you visit:  \n",
    "[http://localhost:11434/](http://localhost:11434/)\n",
    "\n",
    "You should see the message `Ollama is running`.  \n",
    "\n",
    "If not, bring up a new Terminal (Mac) or Powershell (Windows) and enter `ollama serve`  \n",
    "And in another Terminal (Mac) or Powershell (Windows), enter `ollama pull llama3.2`  \n",
    "Then try [http://localhost:11434/](http://localhost:11434/) again.\n",
    "\n",
    "If Ollama is slow on your machine, try using `llama3.2:1b` as an alternative. Run `ollama pull llama3.2:1b` from a Terminal or Powershell, and change the code below from `MODEL = \"llama3.2\"` to `MODEL = \"llama3.2:1b\"`"
   ]
  },
  {
   "cell_type": "code",
   "execution_count": 2,
   "id": "4e2a9393-7767-488e-a8bf-27c12dca35bd",
   "metadata": {},
   "outputs": [],
   "source": [
    "# imports\n",
    "\n",
    "import requests\n",
    "from bs4 import BeautifulSoup\n",
    "from IPython.display import Markdown, display"
   ]
  },
  {
   "cell_type": "code",
   "execution_count": 3,
   "id": "29ddd15d-a3c5-4f4e-a678-873f56162724",
   "metadata": {},
   "outputs": [],
   "source": [
    "# Constants\n",
    "\n",
    "OLLAMA_API = \"http://localhost:11434/api/chat\"\n",
    "HEADERS = {\"Content-Type\": \"application/json\"}\n",
    "MODEL = \"llama3.2\""
   ]
  },
  {
   "cell_type": "code",
   "execution_count": 4,
   "id": "dac0a679-599c-441f-9bf2-ddc73d35b940",
   "metadata": {},
   "outputs": [],
   "source": [
    "# Create a messages list using the same format that we used for OpenAI\n",
    "\n",
    "messages = [\n",
    "    {\"role\": \"user\", \"content\": \"Describe some of the business applications of Generative AI\"}\n",
    "]"
   ]
  },
  {
   "cell_type": "code",
   "execution_count": 5,
   "id": "7bb9c624-14f0-4945-a719-8ddb64f66f47",
   "metadata": {},
   "outputs": [],
   "source": [
    "payload = {\n",
    "        \"model\": MODEL,\n",
    "        \"messages\": messages,\n",
    "        \"stream\": False\n",
    "    }"
   ]
  },
  {
   "cell_type": "code",
   "execution_count": 6,
   "id": "479ff514-e8bd-4985-a572-2ea28bb4fa40",
   "metadata": {},
   "outputs": [
    {
     "name": "stderr",
     "output_type": "stream",
     "text": [
      "\u001b[?25lpulling manifest â ™ \u001b[?25h\u001b[?25l\u001b[2K\u001b[1Gpulling manifest â ¹ \u001b[?25h\u001b[?25l\u001b[2K\u001b[1Gpulling manifest â ¸ \u001b[?25h\u001b[?25l\u001b[2K\u001b[1Gpulling manifest â ¼ \u001b[?25h\u001b[?25l\u001b[2K\u001b[1Gpulling manifest â ´ \u001b[?25h\u001b[?25l\u001b[2K\u001b[1Gpulling manifest â ¦ \u001b[?25h\u001b[?25l\u001b[2K\u001b[1Gpulling manifest â § \u001b[?25h\u001b[?25l\u001b[2K\u001b[1Gpulling manifest â ‡ \u001b[?25h\u001b[?25l\u001b[2K\u001b[1Gpulling manifest â � \u001b[?25h\u001b[?25l\u001b[2K\u001b[1Gpulling manifest â ‹ \u001b[?25h\u001b[?25l\u001b[2K\u001b[1Gpulling manifest â ‹ \u001b[?25h\u001b[?25l\u001b[2K\u001b[1Gpulling manifest â ™ \u001b[?25h\u001b[?25l\u001b[2K\u001b[1Gpulling manifest â ¹ \u001b[?25h\u001b[?25l\u001b[2K\u001b[1Gpulling manifest â ¸ \u001b[?25h\u001b[?25l\u001b[2K\u001b[1Gpulling manifest \n",
      "pulling dde5aa3fc5ff... 100% â–•â–ˆâ–ˆâ–ˆâ–ˆâ–ˆâ–ˆâ–ˆâ–ˆâ–ˆâ–ˆâ–ˆâ–ˆâ–ˆâ–ˆâ–ˆâ–ˆâ–� 2.0 GB                         \n",
      "pulling 966de95ca8a6... 100% â–•â–ˆâ–ˆâ–ˆâ–ˆâ–ˆâ–ˆâ–ˆâ–ˆâ–ˆâ–ˆâ–ˆâ–ˆâ–ˆâ–ˆâ–ˆâ–ˆâ–� 1.4 KB                         \n",
      "pulling fcc5a6bec9da... 100% â–•â–ˆâ–ˆâ–ˆâ–ˆâ–ˆâ–ˆâ–ˆâ–ˆâ–ˆâ–ˆâ–ˆâ–ˆâ–ˆâ–ˆâ–ˆâ–ˆâ–� 7.7 KB                         \n",
      "pulling a70ff7e570d9... 100% â–•â–ˆâ–ˆâ–ˆâ–ˆâ–ˆâ–ˆâ–ˆâ–ˆâ–ˆâ–ˆâ–ˆâ–ˆâ–ˆâ–ˆâ–ˆâ–ˆâ–� 6.0 KB                         \n",
      "pulling 56bb8bd477a5... 100% â–•â–ˆâ–ˆâ–ˆâ–ˆâ–ˆâ–ˆâ–ˆâ–ˆâ–ˆâ–ˆâ–ˆâ–ˆâ–ˆâ–ˆâ–ˆâ–ˆâ–�   96 B                         \n",
      "pulling 34bb5ab01051... 100% â–•â–ˆâ–ˆâ–ˆâ–ˆâ–ˆâ–ˆâ–ˆâ–ˆâ–ˆâ–ˆâ–ˆâ–ˆâ–ˆâ–ˆâ–ˆâ–ˆâ–�  561 B                         \n",
      "verifying sha256 digest \n",
      "writing manifest \n",
      "success \u001b[?25h\n"
     ]
    }
   ],
   "source": [
    "# Let's just make sure the model is loaded\n",
    "\n",
    "!ollama pull llama3.2"
   ]
  },
  {
   "cell_type": "code",
   "execution_count": 8,
   "id": "42b9f644-522d-4e05-a691-56e7658c0ea9",
   "metadata": {},
   "outputs": [
    {
     "name": "stdout",
     "output_type": "stream",
     "text": [
      "Generative AI, also known as generative models or GANs (Generative Adversarial Networks), has numerous business applications across various industries. Here are some examples:\n",
      "\n",
      "1. **Content Generation**: Generative AI can create high-quality content such as articles, social media posts, product descriptions, and even entire books. This can be used to automate content creation for companies, reduce content production costs, and improve efficiency.\n",
      "2. **Product Design**: Generative AI can generate 3D models of products, allowing designers to prototype and test ideas more quickly and efficiently. This can also help companies create complex products with intricate details that would be difficult or impossible to design manually.\n",
      "3. **Image and Video Generation**: Generative AI can create realistic images and videos for various applications such as:\n",
      "* Advertising and marketing (e.g., product demos, explainer videos)\n",
      "* Social media (e.g., user-generated content, personalized avatars)\n",
      "* Virtual reality and augmented reality experiences\n",
      "4. **Music and Audio Generation**: Generative AI can create original music tracks, sound effects, and even entire albums. This can be used in:\n",
      "* Music production and composition\n",
      "* Sound design for film and video games\n",
      "* Creating customized audio content for ads and marketing campaigns\n",
      "5. **Chatbots and Virtual Assistants**: Generative AI can power chatbots and virtual assistants that can understand and respond to user queries, providing customer support and improving the overall customer experience.\n",
      "6. **Predictive Maintenance**: Generative AI can analyze sensor data from industrial equipment to predict maintenance needs, reducing downtime and increasing productivity.\n",
      "7. **Financial Analysis and Prediction**: Generative AI can analyze historical financial data to identify patterns and make predictions about future market trends, helping companies make informed investment decisions.\n",
      "8. **Facial Recognition and Image Manipulation**: Generative AI can be used for facial recognition, image manipulation, and object detection, with applications in:\n",
      "* Security (e.g., identity verification)\n",
      "* Advertising (e.g., targeted advertising)\n",
      "* Entertainment (e.g., special effects in film and video games)\n",
      "9. **Language Translation**: Generative AI can generate human-like text translations, improving communication between people who speak different languages.\n",
      "10. **Data Augmentation**: Generative AI can generate new data points to augment existing datasets, helping companies improve the accuracy of their machine learning models and reduce the need for large amounts of labeled data.\n",
      "\n",
      "These are just a few examples of the many business applications of generative AI. As the technology continues to evolve, we can expect to see even more innovative uses across various industries.\n"
     ]
    }
   ],
   "source": [
    "# If this doesn't work for any reason, try the 2 versions in the following cells\n",
    "# And double check the instructions in the 'Recap on installation of Ollama' at the top of this lab\n",
    "# And if none of that works - contact me!\n",
    "\n",
    "response = requests.post(OLLAMA_API, json=payload, headers=HEADERS)\n",
    "print(response.json()['message']['content'])"
   ]
  },
  {
   "cell_type": "markdown",
   "id": "6a021f13-d6a1-4b96-8e18-4eae49d876fe",
   "metadata": {},
   "source": [
    "# Introducing the ollama package\n",
    "\n",
    "And now we'll do the same thing, but using the elegant ollama python package instead of a direct HTTP call.\n",
    "\n",
    "Under the hood, it's making the same call as above to the ollama server running at localhost:11434"
   ]
  },
  {
   "cell_type": "code",
   "execution_count": 9,
   "id": "7745b9c4-57dc-4867-9180-61fa5db55eb8",
   "metadata": {},
   "outputs": [
    {
     "name": "stdout",
     "output_type": "stream",
     "text": [
      "Generative AI has numerous business applications across various industries, including:\n",
      "\n",
      "1. **Content Generation**: AI can be used to generate content such as articles, blog posts, social media posts, product descriptions, and more. This can help businesses save time and resources while maintaining high-quality content.\n",
      "2. **Marketing Automation**: Generative AI can be used to personalize marketing campaigns, create personalized product recommendations, and automate email marketing efforts.\n",
      "3. **Product Design**: AI-powered generative design tools can be used to generate 3D models, logos, and product designs, reducing the need for human designers and speeding up the design process.\n",
      "4. **Customer Service Chatbots**: Generative AI can be used to create conversational chatbots that can respond to customer inquiries, providing personalized support and improving customer experience.\n",
      "5. **Image and Video Generation**: AI can be used to generate high-quality images and videos for marketing materials, product showcases, and more.\n",
      "6. **Recommendation Systems**: Generative AI can be used to create personalized recommendation systems for e-commerce platforms, streaming services, and other applications.\n",
      "7. **Data Analysis and Visualization**: AI-powered generative models can be used to analyze large datasets, identify patterns, and visualize complex data in an interactive and intuitive way.\n",
      "8. **Language Translation**: Generative AI can be used to improve language translation accuracy, speed up the translation process, and provide more nuanced translations.\n",
      "9. **Creative Writing**: AI can be used to generate creative writing such as poetry, short stories, and even entire scripts for films and TV shows.\n",
      "10. **Business Process Automation**: Generative AI can be used to automate business processes such as accounting, invoicing, and data entry, freeing up human resources for more strategic tasks.\n",
      "\n",
      "Some specific examples of businesses that are already using generative AI include:\n",
      "\n",
      "* **Salesforce**: Uses generative AI to personalize marketing campaigns and customer support interactions.\n",
      "* **HubSpot**: Uses generative AI to create personalized content and automate marketing efforts.\n",
      "* **Adobe**: Uses generative AI to power its Creative Cloud suite, enabling designers to generate high-quality designs and images.\n",
      "* **Microsoft**: Uses generative AI to improve language translation accuracy and speed up the translation process.\n",
      "\n",
      "These are just a few examples of the many businesses that are already leveraging generative AI to drive innovation, efficiency, and growth.\n"
     ]
    }
   ],
   "source": [
    "import ollama\n",
    "\n",
    "response = ollama.chat(model=MODEL, messages=messages)\n",
    "print(response['message']['content'])"
   ]
  },
  {
   "cell_type": "markdown",
   "id": "a4704e10-f5fb-4c15-a935-f046c06fb13d",
   "metadata": {},
   "source": [
    "## Alternative approach - using OpenAI python library to connect to Ollama"
   ]
  },
  {
   "cell_type": "code",
   "execution_count": 10,
   "id": "23057e00-b6fc-4678-93a9-6b31cb704bff",
   "metadata": {},
   "outputs": [
    {
     "name": "stdout",
     "output_type": "stream",
     "text": [
      "Generative AI has numerous business applications across various industries, transforming the way companies operate, create new products, and deliver services. Here are some examples:\n",
      "\n",
      "1. **Content Generation**: AI-powered generative models can produce high-quality content, such as:\n",
      "\t* Blog posts and articles\n",
      "\t* Social media posts and ads\n",
      "\t* Product descriptions and metadata\n",
      "\t* Music and audio tracks\n",
      "2. **Design and Architecture**: Generative AI tools can help designers create new concepts, patterns, and shapes for:\n",
      "\t* Graphics and logos\n",
      "\t* Product designs (e.g., furniture, electronics)\n",
      "\t* Architectural designs and blueprints\n",
      "3. **Marketing and Advertising**: Generative AI can assist in creating personalized advertisements, such as:\n",
      "\t* Customized product ads and sponsored content\n",
      "\t* Dynamic social media posts and influencer collaborations\n",
      "\t* Email marketing campaigns with tailored messages and offers\n",
      "4. **Music and Audio Production**: AI-generated music and audio tracks can be used for:\n",
      "\t* Music composition and sampling\n",
      "\t* Sound effects and FX creation\n",
      "\t* Voiceover recordings (e.g., voice modulation, tone adjustment)\n",
      "5. **Language Translation and Localization**: Generative AI can help with language-specific content creation, such as:\n",
      "\t* Automated translation and dubbing\n",
      "\t* Formatting and styling adjustments for specific languages and cultures\n",
      "6. **Product Development and Design**: Generative AI technologies can aid in the design and testing of new products, including:\n",
      "\t* Creating prototype designs and test models\n",
      "\t* Predicting product performance and user behavior\n",
      "7. **Customer Service and Support**: Generative AI-powered chatbots and virtual assistants can provide:\n",
      "\t* Personalized customer support and response content\n",
      "\t* Automated issue resolution and help desks\n",
      "8. **Education and Training**: AI-generated educational materials can include:\n",
      "\t* Customizable lesson plans and course content\n",
      "\t* Interactive simulations and interactive learning experiences\n",
      "9. **Data Augmentation**: Generative AI can be used to augment existing datasets, creating new data points for machine learning model training.\n",
      "10. **Virtual Content Creation**: AI-powered tools can help generate virtual content characters, avatars, or environments for:\n",
      "\t* Video games and animations\n",
      "\t* Films and TV shows\n",
      "\t* Architectural visualizations and walkthroughs.\n",
      "\n",
      "These are just a few examples of the many business applications of Generative AI. As technology advances, we can expect to see even more innovative solutions that transform industries and revolutionize the way companies operate.\n"
     ]
    }
   ],
   "source": [
    "# There's actually an alternative approach that some people might prefer\n",
    "# You can use the OpenAI client python library to call Ollama:\n",
    "\n",
    "from openai import OpenAI\n",
    "ollama_via_openai = OpenAI(base_url='http://localhost:11434/v1', api_key='ollama')\n",
    "\n",
    "response = ollama_via_openai.chat.completions.create(\n",
    "    model=MODEL,\n",
    "    messages=messages\n",
    ")\n",
    "\n",
    "print(response.choices[0].message.content)"
   ]
  },
  {
   "cell_type": "markdown",
   "id": "bc7d1de3-e2ac-46ff-a302-3b4ba38c4c90",
   "metadata": {},
   "source": [
    "## Also trying the amazing reasoning model DeepSeek\n",
    "\n",
    "Here we use the version of DeepSeek-reasoner that's been distilled to 1.5B.  \n",
    "This is actually a 1.5B variant of Qwen that has been fine-tuned using synethic data generated by Deepseek R1.\n",
    "\n",
    "Other sizes of DeepSeek are [here](https://ollama.com/library/deepseek-r1) all the way up to the full 671B parameter version, which would use up 404GB of your drive and is far too large for most!"
   ]
  },
  {
   "cell_type": "code",
   "execution_count": 11,
   "id": "cf9eb44e-fe5b-47aa-b719-0bb63669ab3d",
   "metadata": {},
   "outputs": [
    {
     "name": "stderr",
     "output_type": "stream",
     "text": [
      "\u001b[?25lpulling manifest â ‹ \u001b[?25h\u001b[?25l\u001b[2K\u001b[1Gpulling manifest â ¹ \u001b[?25h\u001b[?25l\u001b[2K\u001b[1Gpulling manifest â ¸ \u001b[?25h\u001b[?25l\u001b[2K\u001b[1Gpulling manifest â ¼ \u001b[?25h\u001b[?25l\u001b[2K\u001b[1Gpulling manifest â ´ \u001b[?25h\u001b[?25l\u001b[2K\u001b[1Gpulling manifest â ´ \u001b[?25h\u001b[?25l\u001b[2K\u001b[1Gpulling manifest â § \u001b[?25h\u001b[?25l\u001b[2K\u001b[1Gpulling manifest â ‡ \u001b[?25h\u001b[?25l\u001b[2K\u001b[1Gpulling manifest â � \u001b[?25h\u001b[?25l\u001b[2K\u001b[1Gpulling manifest \n",
      "pulling aabd4debf0c8... 100% â–•â–ˆâ–ˆâ–ˆâ–ˆâ–ˆâ–ˆâ–ˆâ–ˆâ–ˆâ–ˆâ–ˆâ–ˆâ–ˆâ–ˆâ–ˆâ–ˆâ–� 1.1 GB                         \n",
      "pulling 369ca498f347... 100% â–•â–ˆâ–ˆâ–ˆâ–ˆâ–ˆâ–ˆâ–ˆâ–ˆâ–ˆâ–ˆâ–ˆâ–ˆâ–ˆâ–ˆâ–ˆâ–ˆâ–�  387 B                         \n",
      "pulling 6e4c38e1172f... 100% â–•â–ˆâ–ˆâ–ˆâ–ˆâ–ˆâ–ˆâ–ˆâ–ˆâ–ˆâ–ˆâ–ˆâ–ˆâ–ˆâ–ˆâ–ˆâ–ˆâ–� 1.1 KB                         \n",
      "pulling f4d24e9138dd... 100% â–•â–ˆâ–ˆâ–ˆâ–ˆâ–ˆâ–ˆâ–ˆâ–ˆâ–ˆâ–ˆâ–ˆâ–ˆâ–ˆâ–ˆâ–ˆâ–ˆâ–�  148 B                         \n",
      "pulling a85fe2a2e58e... 100% â–•â–ˆâ–ˆâ–ˆâ–ˆâ–ˆâ–ˆâ–ˆâ–ˆâ–ˆâ–ˆâ–ˆâ–ˆâ–ˆâ–ˆâ–ˆâ–ˆâ–�  487 B                         \n",
      "verifying sha256 digest \n",
      "writing manifest \n",
      "success \u001b[?25h\n"
     ]
    }
   ],
   "source": [
    "!ollama pull deepseek-r1:1.5b"
   ]
  },
  {
   "cell_type": "code",
   "execution_count": 12,
   "id": "1d3d554b-e00d-4c08-9300-45e073950a76",
   "metadata": {},
   "outputs": [
    {
     "name": "stdout",
     "output_type": "stream",
     "text": [
      "<think>\n",
      "Alright, so I need to understand what a \"LLM\" is. From what I know, LLM stands for Large Language Models. They're used for generating text, like ChatGPT or others mentioned in the answer. Okay, got it.\n",
      "\n",
      "Next, the definition of a neural network. Hmm, I remember that neural networks are inspired by the human brain's structure with layers and nodes processing information in sequence. Each layer takes input data, applies some transformation (like weights and biases) and then passes the output through an activation function. It's this interconnected structure that allows models to learn and recognize patterns.\n",
      "\n",
      "Now, attention and Transformers. Attention is a mechanism where each model can focus on specific parts of the input text or data at any given time. It's like paying attention in class; you might be more engaged with one lecture than another, so the model knows which part to pay most attention to when processing a sentence. This helps the model understand context better.\n",
      "\n",
      "The Transformer architecture came around in the late 2010s. I think it used self-attention and feed-forward layers. The self-attention allows models to consider each word's relationship with every other word, simulating how words interact contextually. The feed-forward layers are like message-passing where data flows through multiple layers, processing information sequentially.\n",
      "\n",
      "These components together in a neural network make LLMs powerful at understanding and generating text. They can handle any language, adapt to new languages quickly, provide diverse responses, and even be used for creative tasks like poetry generation.\n",
      "</think>\n",
      "\n",
      "**LLM and Its Components: A Deep Dive**\n",
      "\n",
      "A **Large Language Model (LLM)** is a modern class of artificial intelligence engineered to understand, generate, and produce human-like or better text. It operates by processing sequences of words through a series of interconnected components:\n",
      "\n",
      "1. **Neural Network Structure**: \n",
      "   - The LLM's structure includes layers that pass input data through transformations. Each layer reduces information dimensionality via matrix operations and applies an activation function to generate output data.\n",
      "\n",
      "2. **Neural Network Function**:\n",
      "   - The neural network transforms input data, enhancing pattern recognition by learning weights and biases, enabling the model to generalize across datasets effectively.\n",
      "\n",
      "3. **Attention Mechanism**:\n",
      "   - This mechanism allows each model to focus on specific parts of the input text at any time. It functions similarly to paying attention during a lecture, prioritizing relevant information for processing.\n",
      "\n",
      "4. **Transformer Architecture**:\n",
      "   - Invented in 2023, this architecture uses self-attention (detecting word relationships) and feed-forward layers (processing sequential data). Its ability to handle arbitrary length sequences makes it particularly efficient.\n",
      "\n",
      "5. **Function of Attention and Transformers in LLMs**: \n",
      "   - These components enable the model to understand context through attention, enhancing processing efficiency and flexibility in learning new tasks quickly while offering versatile response options.\n",
      "\n",
      "**In Conclusion**, neural networks with attention mechanisms and Transformers form LLMs that excel across text generation, adaptability, and creativity.\n"
     ]
    }
   ],
   "source": [
    "# This may take a few minutes to run! You should then see a fascinating \"thinking\" trace inside <think> tags, followed by some decent definitions\n",
    "\n",
    "response = ollama_via_openai.chat.completions.create(\n",
    "    model=\"deepseek-r1:1.5b\",\n",
    "    messages=[{\"role\": \"user\", \"content\": \"Please give definitions of some core concepts behind LLMs: a neural network, attention and the transformer\"}]\n",
    ")\n",
    "\n",
    "print(response.choices[0].message.content)"
   ]
  },
  {
   "cell_type": "markdown",
   "id": "1622d9bb-5c68-4d4e-9ca4-b492c751f898",
   "metadata": {},
   "source": [
    "# NOW the exercise for you\n",
    "\n",
    "Take the code from day1 and incorporate it here, to build a website summarizer that uses Llama 3.2 running locally instead of OpenAI; use either of the above approaches."
   ]
  },
  {
   "cell_type": "code",
   "execution_count": 21,
   "id": "4e8b37c8",
   "metadata": {},
   "outputs": [],
   "source": [
    "# imports\n",
    "import os\n",
    "import requests\n",
    "from bs4 import BeautifulSoup\n",
    "from IPython.display import Markdown, display\n",
    "import ollama"
   ]
  },
  {
   "cell_type": "code",
   "execution_count": 25,
   "id": "fe9f34f9",
   "metadata": {},
   "outputs": [],
   "source": [
    "# Website class\n",
    "headers = {\n",
    " \"User-Agent\": \"Mozilla/5.0 (Windows NT 10.0; Win64; x64) AppleWebKit/537.36 (KHTML, like Gecko) Chrome/117.0.0.0 Safari/537.36\"\n",
    "}\n",
    "\n",
    "class Website:\n",
    "\n",
    "    def __init__(self, url):\n",
    "        self.url = url\n",
    "        response = requests.get(url, headers=headers)\n",
    "        soup = BeautifulSoup(response.content, 'html.parser')\n",
    "        self.title = soup.title.string if soup.title else \"No title found\"\n",
    "        for irrelevant in soup.body(['script', 'style', 'img', 'input']):\n",
    "            irrelevant.decompose()\n",
    "        self.text = soup.body.get_text(separator=\"\\n\", strip=True)"
   ]
  },
  {
   "cell_type": "code",
   "execution_count": 26,
   "id": "e40d1500-5dc1-4647-b2ce-f8d2e81b32cc",
   "metadata": {},
   "outputs": [],
   "source": [
    "# Define system prompt\n",
    "system_prompt = \"You are an assistant that analyzes the contents of a website \\\n",
    "    and provides a short summary, ignoring text that might be navigation related. \\\n",
    "    Respond in markdown.\"\n"
   ]
  },
  {
   "cell_type": "code",
   "execution_count": 27,
   "id": "d43e9579",
   "metadata": {},
   "outputs": [],
   "source": [
    "# A function that writes User Prompt that asks for summaries of websites:\n",
    "\n",
    "def user_prompt_for(website):\n",
    "    user_prompt = f\"You are looking at a website titled {website.title}\"\n",
    "    user_prompt += \"\\nThe contents of this website is as follows; \\\n",
    "        please provide a short summary of this website in markdown. \\\n",
    "        If it includes news or announcements, then summarize these too.\\n\\n\"\n",
    "    user_prompt += website.text\n",
    "    return user_prompt"
   ]
  },
  {
   "cell_type": "code",
   "execution_count": 36,
   "id": "eef22290",
   "metadata": {},
   "outputs": [],
   "source": [
    "site = Website(\"https://bg3.wiki\")"
   ]
  },
  {
   "cell_type": "code",
   "execution_count": 33,
   "id": "be410696",
   "metadata": {},
   "outputs": [
    {
     "ename": "NameError",
     "evalue": "name 'site' is not defined",
     "output_type": "error",
     "traceback": [
      "\u001b[31m---------------------------------------------------------------------------\u001b[39m",
      "\u001b[31mNameError\u001b[39m                                 Traceback (most recent call last)",
      "\u001b[36mCell\u001b[39m\u001b[36m \u001b[39m\u001b[32mIn[33]\u001b[39m\u001b[32m, line 1\u001b[39m\n\u001b[32m----> \u001b[39m\u001b[32m1\u001b[39m \u001b[38;5;28mprint\u001b[39m(user_prompt_for(\u001b[43msite\u001b[49m))\n",
      "\u001b[31mNameError\u001b[39m: name 'site' is not defined"
     ]
    }
   ],
   "source": [
    "print(user_prompt_for(site))\n"
   ]
  },
  {
   "cell_type": "code",
   "execution_count": 37,
   "id": "a7f27a8c",
   "metadata": {},
   "outputs": [],
   "source": [
    "def messages_for(website):\n",
    "    return [\n",
    "        {\"role\": \"system\",\"content\": system_prompt},\n",
    "        {\"role\": \"user\",\"content\": user_prompt_for(website)}\n",
    "    ]"
   ]
  },
  {
   "cell_type": "code",
   "execution_count": 38,
   "id": "1d44a651",
   "metadata": {},
   "outputs": [
    {
     "data": {
      "text/plain": [
       "[{'role': 'system',\n",
       "  'content': 'You are an assistant that analyzes the contents of a website     and provides a short summary, ignoring text that might be navigation related.     Respond in markdown.'},\n",
       " {'role': 'user',\n",
       "  'content': 'You are looking at a website titled Baldur\\'s Gate 3 Wiki\\nThe contents of this website is as follows;         please provide a short summary of this website in markdown.         If it includes news or announcements, then summarize these too.\\n\\nAd placeholder\\nBaldur\\'s Gate 3 Wiki\\nFrom bg3.wiki\\nJump to navigation\\nJump to search\\nWelcome to bg3.wiki!\\nWe provide a clean, detailed, up-to-date wiki for\\nBaldur\\'s Gate 3\\n.\\nThis is a community project and everyone is welcome!\\nWe have 12,015 pages and growing…\\nLatest BG3 update:\\nHotfix 30 (Console Only)\\n- 15:00, 12 December 2024 (CET)\\nContributing\\nSee\\ngetting started\\nif you want to help improve the wiki and are new to editing. You can edit without an account, but your IP address will be\\npublicly\\nlogged.\\nFeel free to\\nJoin our Discord\\nso we can coordinate our efforts.\\nPlease see\\nbg3wiki:Ads\\nfor why we have decided to put ads on the wiki.\\nCalling out to all past contributors!\\nPlease read\\nContributor Payment\\nand send in your application if you\\'ve made any non-trivial contributions to the wiki before September 2024. As promised when we decided to put up ads, you will receive a share of earnings.\\n⚠️ From\\nSep. 6th, 22:00 UTC\\nto\\nSep. 7th, 03:00 UTC\\nthe site may be inaccessible for\\nup to 3 hours\\ndue to routine maintenance. ⚠️\\nGameplay\\nDice rolls\\nCreatures\\nNPCs\\nCompanions\\nQuests\\nWeapons\\nItems\\nLocations\\nCharacter creation\\nOrigins\\nRaces\\nClasses\\nSpells\\nFeats\\nBackgrounds\\nSkills\\nAbilities\\nCharacter creation summary\\nWalkthrough\\nIn case you find yourself stuck, or want to check in advance which outcomes are possible, see here for quest guides.\\nPrologue\\nAct One\\nAct Two\\nAct Three\\nMechanics\\nLearn about the various\\ngameplay mechanics\\nof Baldur\\'s Gate 3.\\nResources\\nAction\\nBonus action\\nReaction\\nWeapon actions\\nIllithid powers\\nSpellcasting\\nResting\\nConditions\\nAlchemy\\nDamage types\\nArmour Class\\nInitiative\\nConcentration\\nList of spells\\nConsumables\\nMiscellaneous\\nPerm. bonuses\\nProficiency\\nInspiration\\nD&D 5th edition rules\\nHere\\'s a quick reference of the core Dungeons & Dragons 5th edition rules as implemented in Baldur\\'s Gate 3.  See also:\\nD&D 5e rule changes\\nRolls\\nInitiative\\nThe roll you make to determine when it will be your turn at start of combat.\\nAttack roll\\nThe roll you make to determine whether an attack hits an enemy at all.\\nDamage roll\\nThe roll you make to determine the amount of damage done by a successful attack.\\nSaving throw\\nThe roll you make to attempt avoiding various threats other than direct attacks.\\nAbility check\\nThe roll you make when attempting anything else that requires a roll to succeed.\\nModifiers\\nAdvantage\\nRoll the dice twice, and use the higher result.\\nDisadvantage\\nis the exact opposite.\\nAbility score modifier\\nThe number you add to your rolls based on your\\nability scores\\n.\\nProficiency bonus\\nThe number you add to your rolls based on whether you have\\nproficiency\\n.\\nCharacters\\nSee below for all playable characters, companions that can join your party, and non-playable characters in Baldur\\'s Gate 3.\\nCustom\\nThe Dark Urge\\nAstarion\\nGale\\nKarlach\\nLae\\'zel\\nShadowheart\\nWyll\\nAll characters\\nApproval\\nDialogue\\nRomance\\nCompanions\\n: NPCs who can travel with you and appear at the Campsite.\\nCamp followers\\n: NPCs who stay at the campsite.\\nCampsite\\n: Long rest, item storage, character interactions, and so on.\\nDeities\\n: The gods and goddesses in the Forgotten Realms setting.\\nExternal links\\nVarious other pages and resources you may be interested in.\\nLarian Studios Feedback form\\n(Baldur\\'s Gate is already selected)\\nBaldur\\'s Gate 3 Interactive Maps\\non Map Genie\\nForgotten Realms Wiki\\n: Learn more about the Forgotten Realms\\nCommunity Resources\\nModding\\nGuides\\nD&D 5e changes\\nWiki Help\\nCopyright and licensing\\nAny original content you contribute to bg3.wiki remains your intellectual property, but is published under the\\nCC BY-SA 4.0\\nand/or\\nCC BY-NC-SA 4.0\\nlicense. Please refer to the pages\\nbg3wiki:Copyrights\\nand\\nbg3wiki:Licensing\\nfor further details.\\nHosting and financing\\nThe wiki is hosted on a server by Hetzner Online GmbH and the sysadmin is\\nTaylan\\n. We used to take donations, but decided to serve ads instead at some point. Please see\\nbg3wiki:Ads\\nfor details about advertisement on bg3.wiki.\\nWelcome to bg3.wiki!\\nWe aim to provide a clean, detailed, up to date wiki for\\nBaldur\\'s Gate 3\\n.  This is shared a community effort and everyone is welcome!\\nWe have 12,015 pages and growing…\\nLatest update\\nHotfix 30 (Console Only)\\n- 15:00, 12 December 2024 (CET)\\nPatch 8 coming soon!\\nSee here for major updates:\\nGuide:Patch 8 preview\\n⚠️ From\\nSep. 6th, 22:00 UTC\\nto\\nSep. 7th, 03:00 UTC\\nthe site may be inaccessible for\\nup to 3 hours\\ndue to routine maintenance. ⚠️\\nGameplay\\nDice rolls\\nCreatures\\nNPCs\\nCompanions\\nQuests\\nWeapons\\nItems\\nLocations\\nCharacter creation\\nOrigins\\nRaces\\nClasses\\nSpells\\nFeats\\nBackgrounds\\nSkills\\nAbilities\\nMechanics\\nLearn about various\\ngameplay features\\nin Baldur\\'s Gate 3.\\nResources\\nAction\\nBonus action\\nReaction\\nWeapon Actions\\nIllithid powers\\nSpellcasting\\nResting\\nConditions\\nAlchemy\\nDamage types\\nArmour Class\\nInitiative\\nConcentration\\nList of spells\\nConsumables\\nMiscellaneous\\nPerm. bonuses\\nProficiency\\nInspiration\\nCharacters & Companions\\nCustom\\nThe Dark Urge\\nAstarion\\nGale\\nKarlach\\nLae\\'zel\\nShadowheart\\nWyll\\nAll characters\\nApproval\\nDialogue\\nRomance\\nCampsite\\n: The place you go for Long Rest, item storage, interactions with Camp Followers, and intimate interactions with Companions.\\nCamp Followers\\n: Not to be confused with Companions, these NPCs will travel with you and appear at the Campsite.\\nDeities\\n: The gods of worship in the Forgotten Realms setting in which Baldur\\'s Gate 3 takes place.\\nWalkthrough\\nIn case you find yourself stuck, or want to check in advance which outcomes are possible, see here for quest guides.\\nPrologue\\nAct One\\nAct Two\\nAct Three\\nD&D 5th edition rules\\nHere\\'s a quick reference of the core Dungeons & Dragons 5th Edition rules as implemented in Baldur\\'s Gate 3.  See also:\\nD&D 5e Rule Changes\\nRolls\\nInitiative\\nThe roll you make to determine when it will be your turn at start of combat.\\nAttack roll\\nThe roll you make to determine whether an attack hits an enemy at all.\\nDamage roll\\nThe roll you make to determine the amount of damage done by a successful attack.\\nSaving throw\\nThe roll you make to attempt avoiding various threats other than direct attacks.\\nAbility check\\nThe roll you make when attempting anything else that requires a roll to succeed.\\nModifiers\\nAdvantage\\nRoll the die twice, and use the higher result. Disadvantage is the exact opposite.\\nAbility score modifier\\nThe number you add to your rolls based on your\\nability scores\\n.\\nProficiency bonus\\nThe number you add to your rolls based on whether you have\\nproficiency\\n.\\nCommunity resources\\nModding\\nGuides\\nD&D 5e changes\\nWiki Help\\nExternal links\\nLarian Studios Feedback form\\n(Baldur\\'s Gate is already selected)\\nBaldur\\'s Gate 3 Interactive Maps\\non Map Genie\\nForgotten Realms Wiki\\n: Learn more about the Forgotten Realms\\nCopyright and licensing\\nAny original content you contribute to bg3.wiki remains your intellectual property, but is published under the\\nCC BY-SA 4.0\\nand/or\\nCC BY-NC-SA 4.0\\nlicense. Please refer to the pages\\nbg3wiki:Copyrights\\nand\\nbg3wiki:Licensing\\nfor further details.\\nHosting and financing\\nThe wiki is hosted on a server by Hetzner Online GmbH and the sysadmin is\\nTaylan\\n. We used to take donations, but decided to serve ads instead at some point. Please see\\nbg3wiki:Ads\\nfor details about advertisement on bg3.wiki.\\nContributing\\nIf you want to help us improve the wiki, please read\\nGetting started\\n.  You can join the\\nbg3.wiki Discord\\nso we can more easily coordinate our efforts.\\nThe wiki can be edited without an account, but your IP address will be publicly logged.\\nSpotted an issue with this page?\\nLeave a comment!\\nNote that your IP address will be publicly logged unless you\\ncreate an account\\n.  You can also\\nedit the page\\nto fix the issue.  See\\nHow to Contribute\\nto get started, and maybe\\njoin our Discord\\nso we can coordinate our efforts.\\nRetrieved from \"\\nhttps://bg3.wiki/w/index.php?title=Main_Page&oldid=216215\\n\"\\nNavigation menu\\nPersonal tools\\nNot logged in\\nTalk\\nContributions\\nCreate account\\nLog in\\nNamespaces\\nMain Page\\nDiscussion\\nEnglish\\nViews\\nRead\\nView source\\nView history\\nMore\\nSearch\\nNavigation\\nMain page\\nHelp index\\nLearn to edit\\nGuides\\nModding\\nUpload file\\nDiscord\\nPayment\\nSpecial\\nRecent changes\\nNewly added files\\nSpecial pages\\nRandom page\\nVersion\\nTools\\nWhat links here\\nRelated changes\\nSpecial pages\\nPrintable version\\nPermanent link\\nPage information\\nCargo data\\nAdvertisement\\nAbout ads on bg3.wiki\\nPlease report bad ads\\nAd placeholder\\nThis page was last edited on 7 August 2024, at 15:22.\\nContent is available under\\nCC BY-NC-SA 4.0 or CC BY-SA 4.0\\n; please see the linked page for details.\\nPrivacy policy\\nAbout bg3.wiki\\nCopyrights\\nMobile view'}]"
      ]
     },
     "execution_count": 38,
     "metadata": {},
     "output_type": "execute_result"
    }
   ],
   "source": [
    "messages_for(site)"
   ]
  },
  {
   "cell_type": "code",
   "execution_count": null,
   "id": "13dd807c",
   "metadata": {},
   "outputs": [],
   "source": []
  }
 ],
 "metadata": {
  "kernelspec": {
   "display_name": "Python 3 (ipykernel)",
   "language": "python",
   "name": "python3"
  },
  "language_info": {
   "codemirror_mode": {
    "name": "ipython",
    "version": 3
   },
   "file_extension": ".py",
   "mimetype": "text/x-python",
   "name": "python",
   "nbconvert_exporter": "python",
   "pygments_lexer": "ipython3",
   "version": "3.11.11"
  }
 },
 "nbformat": 4,
 "nbformat_minor": 5
}
